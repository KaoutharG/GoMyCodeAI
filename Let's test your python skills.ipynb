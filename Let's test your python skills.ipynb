{
 "cells": [
  {
   "cell_type": "code",
   "execution_count": 14,
   "id": "4585bcc3",
   "metadata": {},
   "outputs": [
    {
     "name": "stdout",
     "output_type": "stream",
     "text": [
      "Numbers between 2000 and 3200 which are divisible by 7 but not a multiple of 5 are \n",
      " [2002, 2009, 2016, 2023, 2037, 2044, 2051, 2058, 2072, 2079, 2086, 2093, 2107, 2114, 2121, 2128, 2142, 2149, 2156, 2163, 2177, 2184, 2191, 2198, 2212, 2219, 2226, 2233, 2247, 2254, 2261, 2268, 2282, 2289, 2296, 2303, 2317, 2324, 2331, 2338, 2352, 2359, 2366, 2373, 2387, 2394, 2401, 2408, 2422, 2429, 2436, 2443, 2457, 2464, 2471, 2478, 2492, 2499, 2506, 2513, 2527, 2534, 2541, 2548, 2562, 2569, 2576, 2583, 2597, 2604, 2611, 2618, 2632, 2639, 2646, 2653, 2667, 2674, 2681, 2688, 2702, 2709, 2716, 2723, 2737, 2744, 2751, 2758, 2772, 2779, 2786, 2793, 2807, 2814, 2821, 2828, 2842, 2849, 2856, 2863, 2877, 2884, 2891, 2898, 2912, 2919, 2926, 2933, 2947, 2954, 2961, 2968, 2982, 2989, 2996, 3003, 3017, 3024, 3031, 3038, 3052, 3059, 3066, 3073, 3087, 3094, 3101, 3108, 3122, 3129, 3136, 3143, 3157, 3164, 3171, 3178, 3192, 3199]\n"
     ]
    }
   ],
   "source": [
    "# question 1\n",
    "list = []\n",
    "for x in range (2000, 3201):\n",
    "    if (x % 7 == 0) & (x % 5 != 0):\n",
    "        list.append(x)\n",
    "print (\"Numbers between 2000 and 3200 which are divisible by 7 but not a multiple of 5 are \\n\", list)        "
   ]
  },
  {
   "cell_type": "code",
   "execution_count": 23,
   "id": "030c9940",
   "metadata": {},
   "outputs": [
    {
     "name": "stdout",
     "output_type": "stream",
     "text": [
      "Enter the number for which you compute its factorial  1\n",
      "factorial ( 1 ) =  1\n"
     ]
    }
   ],
   "source": [
    "# question 2\n",
    "def factorial(n):\n",
    "    if (n==1):\n",
    "        return n\n",
    "    else:\n",
    "        return n * factorial (n - 1)\n",
    "n = int(input(\"Enter the number for which you compute its factorial  \"))\n",
    "if n < 0:\n",
    "    print (\"Error: factoriel is only computed for positif integers\")\n",
    "elif n == 0:\n",
    "    print (\"factorial(0) = 1\")\n",
    "else:\n",
    "    print (\"factorial (\", n ,\") = \", factorial(n))"
   ]
  },
  {
   "cell_type": "code",
   "execution_count": 31,
   "id": "f272bb39",
   "metadata": {},
   "outputs": [
    {
     "name": "stdout",
     "output_type": "stream",
     "text": [
      "enter an integer number 9\n",
      "{1: 1, 2: 4, 3: 9, 4: 16, 5: 25, 6: 36, 7: 49, 8: 64, 9: 81}\n"
     ]
    }
   ],
   "source": [
    "# question 3\n",
    "my_dict ={}\n",
    "n = int(input(\"enter an integer number \"))\n",
    "for i in range (1, n+1):\n",
    "    my_dict[i] = i*i\n",
    "    i = i + 1\n",
    "    \n",
    "print (my_dict)"
   ]
  },
  {
   "cell_type": "code",
   "execution_count": 9,
   "id": "c49b4b3a",
   "metadata": {},
   "outputs": [
    {
     "name": "stdout",
     "output_type": "stream",
     "text": [
      "enter a string uasoaie\n",
      "Enter an integer number 9\n",
      "Enter an integer number 7\n",
      "Enter an integer number 6\n",
      "7\n",
      "uasoai\n"
     ]
    }
   ],
   "source": [
    "# question 4\n",
    "string = str (input(\"enter a string \"))\n",
    "while True:\n",
    "    n = int(input(\"Enter an integer number \"))\n",
    "    if (n >= 0) and n <= (len(string)-1):\n",
    "        print(len(string))\n",
    "        break\n",
    "string1=string.replace(string[n],\"\")\n",
    "print (string1)"
   ]
  },
  {
   "cell_type": "code",
   "execution_count": 4,
   "id": "06bd1816",
   "metadata": {},
   "outputs": [
    {
     "name": "stdout",
     "output_type": "stream",
     "text": [
      "Enter the rows of array 3\n",
      "Enter the columns of array 2\n",
      "1\n",
      "2\n",
      "3\n",
      "4\n",
      "5\n",
      "0\n",
      "[[1 2]\n",
      " [3 4]\n",
      " [5 0]] \n",
      "\n",
      "[[1, 2], [3, 4], [5, 0]]\n"
     ]
    }
   ],
   "source": [
    "#question 5\n",
    "import numpy as np\n",
    "\n",
    "x = int(input(\"Enter the rows of array \"))\n",
    "y = int(input(\"Enter the columns of array \"))\n",
    "data=[]\n",
    "\n",
    "for i in range(x*y):\n",
    "    data.append(int(input()))\n",
    "Array = np.reshape(data, (x, y))\n",
    "print(Array, \"\\n\")\n",
    "myList = Array.tolist()\n",
    "print(myList)\n"
   ]
  },
  {
   "cell_type": "code",
   "execution_count": 8,
   "id": "38894d7e",
   "metadata": {},
   "outputs": [
    {
     "name": "stdout",
     "output_type": "stream",
     "text": [
      "array1 is  [0 1 2] \n",
      "array2 is  [2 1 0]\n",
      "Covariance matrix of the said arrays:  [[ 1. -1.]\n",
      " [-1.  1.]]\n"
     ]
    }
   ],
   "source": [
    "#question 6\n",
    "import numpy as np\n",
    "x = np.array([0,1,2])\n",
    "y = np.array([2,1,0])\n",
    "print (\"array1 is \", x,\"\\narray2 is \", y)\n",
    "covarray =np.cov(x, y)\n",
    "print(\"Covariance matrix of the said arrays: \",covarray)"
   ]
  },
  {
   "cell_type": "code",
   "execution_count": 11,
   "id": "d8334d00",
   "metadata": {
    "scrolled": true
   },
   "outputs": [
    {
     "name": "stdout",
     "output_type": "stream",
     "text": [
      "Fill in the List D\n",
      "Enter a number100\n",
      "Enter a number150\n",
      "Enter a number180\n",
      "[100, 150, 180]\n",
      "the result of Q= Square root of [(2 * C * D)/H] \n",
      "<class 'list'>\n"
     ]
    },
    {
     "ename": "TypeError",
     "evalue": "'int' object does not support item assignment",
     "output_type": "error",
     "traceback": [
      "\u001b[1;31m---------------------------------------------------------------------------\u001b[0m",
      "\u001b[1;31mTypeError\u001b[0m                                 Traceback (most recent call last)",
      "\u001b[1;32m<ipython-input-11-77489da6d3c0>\u001b[0m in \u001b[0;36m<module>\u001b[1;34m\u001b[0m\n\u001b[0;32m     12\u001b[0m \u001b[0mprint\u001b[0m\u001b[1;33m(\u001b[0m\u001b[0mtype\u001b[0m\u001b[1;33m(\u001b[0m\u001b[0mD1\u001b[0m\u001b[1;33m)\u001b[0m\u001b[1;33m)\u001b[0m\u001b[1;33m\u001b[0m\u001b[1;33m\u001b[0m\u001b[0m\n\u001b[0;32m     13\u001b[0m \u001b[1;32mfor\u001b[0m \u001b[0mi\u001b[0m \u001b[1;32min\u001b[0m \u001b[0mrange\u001b[0m \u001b[1;33m(\u001b[0m\u001b[0mlen\u001b[0m\u001b[1;33m(\u001b[0m\u001b[0mD1\u001b[0m\u001b[1;33m)\u001b[0m \u001b[1;33m-\u001b[0m \u001b[1;36m1\u001b[0m\u001b[1;33m)\u001b[0m\u001b[1;33m:\u001b[0m\u001b[1;33m\u001b[0m\u001b[1;33m\u001b[0m\u001b[0m\n\u001b[1;32m---> 14\u001b[1;33m     \u001b[0mD\u001b[0m\u001b[1;33m[\u001b[0m\u001b[0mi\u001b[0m\u001b[1;33m]\u001b[0m \u001b[1;33m=\u001b[0m\u001b[0mint\u001b[0m\u001b[1;33m(\u001b[0m\u001b[0mD1\u001b[0m\u001b[1;33m[\u001b[0m\u001b[0mi\u001b[0m\u001b[1;33m]\u001b[0m\u001b[1;33m)\u001b[0m\u001b[1;33m\u001b[0m\u001b[1;33m\u001b[0m\u001b[0m\n\u001b[0m\u001b[0;32m     15\u001b[0m     \u001b[0mprint\u001b[0m\u001b[1;33m(\u001b[0m\u001b[0mD\u001b[0m\u001b[1;33m)\u001b[0m\u001b[1;33m\u001b[0m\u001b[1;33m\u001b[0m\u001b[0m\n\u001b[0;32m     16\u001b[0m     \u001b[0mprint\u001b[0m\u001b[1;33m(\u001b[0m\u001b[0mtype\u001b[0m\u001b[1;33m(\u001b[0m\u001b[0mD\u001b[0m\u001b[1;33m[\u001b[0m\u001b[0mi\u001b[0m\u001b[1;33m]\u001b[0m\u001b[1;33m)\u001b[0m\u001b[1;33m)\u001b[0m\u001b[1;33m\u001b[0m\u001b[1;33m\u001b[0m\u001b[0m\n",
      "\u001b[1;31mTypeError\u001b[0m: 'int' object does not support item assignment"
     ]
    }
   ],
   "source": [
    "#question 7\n",
    "import math\n",
    "Q = []\n",
    "C = 50\n",
    "H = 30\n",
    "D1=[]\n",
    "print(\"Fill in the List D\")\n",
    "for x in range(3):\n",
    "    D1.append(int(input(\"Enter a number\")))\n",
    "print(D1)\n",
    "print(\"the result of Q= Square root of [(2 * C * D)/H] \")\n",
    "print(type(D1))\n",
    "for i in range (len(D1) - 1):\n",
    "    D[i] =int(D1[i])\n",
    "    print(D)\n",
    "    print(type(D[i]))\n",
    "    Q.append(math.sqrt((2*C*D[i])/H))\n",
    "print(Q)     \n"
   ]
  },
  {
   "cell_type": "code",
   "execution_count": null,
   "id": "ca96bae3",
   "metadata": {},
   "outputs": [],
   "source": []
  }
 ],
 "metadata": {
  "kernelspec": {
   "display_name": "Python 3",
   "language": "python",
   "name": "python3"
  },
  "language_info": {
   "codemirror_mode": {
    "name": "ipython",
    "version": 3
   },
   "file_extension": ".py",
   "mimetype": "text/x-python",
   "name": "python",
   "nbconvert_exporter": "python",
   "pygments_lexer": "ipython3",
   "version": "3.8.8"
  }
 },
 "nbformat": 4,
 "nbformat_minor": 5
}
